{
  "nbformat": 4,
  "nbformat_minor": 0,
  "metadata": {
    "colab": {
      "name": "RF_ ECE687_Airbnb_recommendation.ipynb",
      "provenance": [],
      "authorship_tag": "ABX9TyNZyTXWP7OgpW6IWmcrUOvs",
      "include_colab_link": true
    },
    "kernelspec": {
      "name": "python3",
      "display_name": "Python 3"
    },
    "language_info": {
      "name": "python"
    }
  },
  "cells": [
    {
      "cell_type": "markdown",
      "metadata": {
        "id": "view-in-github",
        "colab_type": "text"
      },
      "source": [
        "<a href=\"https://colab.research.google.com/github/ydeng-MLM/ECE687_Kaggle_Airbnb_Recommendation/blob/main/RF__ECE687_Airbnb_recommendation.ipynb\" target=\"_parent\"><img src=\"https://colab.research.google.com/assets/colab-badge.svg\" alt=\"Open In Colab\"/></a>"
      ]
    },
    {
      "cell_type": "markdown",
      "metadata": {
        "id": "65bsokb3cmoU"
      },
      "source": [
        "**Import libraries**"
      ]
    },
    {
      "cell_type": "code",
      "metadata": {
        "id": "ehdePfIJcgdT"
      },
      "source": [
        "import numpy as np\n",
        "import pandas as pd\n",
        "import matplotlib.pyplot as plt\n",
        "\n",
        "#Pytorch was used for DNN built, but not enough optimization time \n",
        "import torch\n",
        "from torch.utils.data import DataLoader\n",
        "from torchvision import datasets, transforms\n",
        "import torch.nn.functional as F\n",
        "from torch.utils.data import Dataset\n",
        "from torch import nn\n",
        "\n",
        "#Results analysis library\n",
        "from sklearn.metrics import classification_report, accuracy_score\n",
        "from sklearn.pipeline import make_pipeline\n",
        "from sklearn.model_selection import cross_val_score\n",
        "\n",
        "#Data preparation import\n",
        "from sklearn.model_selection import train_test_split\n",
        "from sklearn.compose import make_column_transformer\n",
        "from sklearn.preprocessing import OneHotEncoder, OrdinalEncoder, LabelEncoder\n",
        "from sklearn.preprocessing import StandardScaler, MinMaxScaler, RobustScaler\n",
        "\n",
        "#ML algorithms import\n",
        "from sklearn import svm\n",
        "from sklearn.ensemble import RandomForestClassifier\n",
        "from sklearn.linear_model import LogisticRegression\n",
        "from sklearn.ensemble import RandomForestClassifier\n",
        "from sklearn.neighbors import KNeighborsClassifier\n",
        "\n",
        "from sklearn.model_selection import GridSearchCV, RandomizedSearchCV\n",
        "import time"
      ],
      "execution_count": null,
      "outputs": []
    },
    {
      "cell_type": "markdown",
      "metadata": {
        "id": "jfQOUmPEc2hD"
      },
      "source": [
        "**Data preparation**"
      ]
    },
    {
      "cell_type": "code",
      "metadata": {
        "id": "dA6wmHcmdsUl"
      },
      "source": [
        "#Reading the data from train.csv\n",
        "df = pd.read_csv('train.csv')"
      ],
      "execution_count": null,
      "outputs": []
    },
    {
      "cell_type": "code",
      "metadata": {
        "colab": {
          "base_uri": "https://localhost:8080/"
        },
        "id": "UpjOo-JVTrq4",
        "outputId": "6d996a78-e024-479e-a916-2ba24bd2bdfd"
      },
      "source": [
        "#Checking the columns\n",
        "df.columns"
      ],
      "execution_count": null,
      "outputs": [
        {
          "output_type": "execute_result",
          "data": {
            "text/plain": [
              "Index(['id', 'Decision', 'Host_response_time', 'Host_is_superhost',\n",
              "       'Host_has_profile_pic', 'Host_identity_verified', 'Neighbourhood',\n",
              "       'Property_type', 'Room_type', 'Accommodates', 'Bathrooms_text',\n",
              "       'Bedrooms', 'Beds', 'Essentials', 'Cooking', 'Balcony', 'Parking',\n",
              "       'Price', 'Number_of_reviews', 'Review_scores_rating',\n",
              "       'Instant_bookable', 'Month'],\n",
              "      dtype='object')"
            ]
          },
          "metadata": {},
          "execution_count": 3
        }
      ]
    },
    {
      "cell_type": "code",
      "metadata": {
        "colab": {
          "base_uri": "https://localhost:8080/"
        },
        "id": "Tm_fH9lcj_e1",
        "outputId": "65c3875d-df9b-46c0-bac1-061b455eee61"
      },
      "source": [
        "#Print out all the NaN entry\n",
        "df.columns[df.isnull().any()].tolist()"
      ],
      "execution_count": null,
      "outputs": [
        {
          "output_type": "execute_result",
          "data": {
            "text/plain": [
              "['Host_response_time',\n",
              " 'Host_is_superhost',\n",
              " 'Host_has_profile_pic',\n",
              " 'Host_identity_verified',\n",
              " 'Bedrooms',\n",
              " 'Beds',\n",
              " 'Review_scores_rating']"
            ]
          },
          "metadata": {},
          "execution_count": 4
        }
      ]
    },
    {
      "cell_type": "code",
      "metadata": {
        "id": "kNm4LdCClBae"
      },
      "source": [
        "#Cleaning all the NaN entry\n",
        "df['Host_response_time'].fillna(\"No response\", inplace = True)\n",
        "df['Host_is_superhost'].fillna(\"t\", inplace = True)\n",
        "df['Host_has_profile_pic'].fillna(\"t\", inplace = True)\n",
        "df['Host_identity_verified'].fillna(\"t\", inplace = True)\n",
        "df['Bedrooms'].fillna(1, inplace = True)\n",
        "df['Beds'].fillna(1, inplace = True)\n",
        "review_mean = df['Review_scores_rating'].mean()\n",
        "df['Review_scores_rating'].fillna(review_mean, inplace = True)\n",
        "\n",
        "df['Price'] = df['Price'].str.replace(',', '')\n",
        "df['Price'] = df['Price'].str.replace('$', '')\n",
        "df['Price'] = df['Price'].astype(float)\n"
      ],
      "execution_count": null,
      "outputs": []
    },
    {
      "cell_type": "code",
      "metadata": {
        "id": "ypEdHemZSj61"
      },
      "source": [
        "#Use column transformer to define specific encoders for each column in the dataframe\n",
        "column_trans = make_column_transformer((OneHotEncoder(drop='if_binary'),\n",
        "                                        ['Host_is_superhost', 'Host_has_profile_pic', 'Host_identity_verified',\n",
        "                                         'Instant_bookable']),\n",
        "                                      (OrdinalEncoder(), ['Host_response_time', 'Neighbourhood', 'Property_type',\n",
        "                                                          'Room_type', 'Bathrooms_text', 'Essentials', \n",
        "                                                          'Month']),\n",
        "                                      remainder='passthrough')"
      ],
      "execution_count": null,
      "outputs": []
    },
    {
      "cell_type": "code",
      "metadata": {
        "id": "IlYcq7BHX8PA"
      },
      "source": [
        "#Defining the label from the dataframe\n",
        "labels = df.to_numpy()[:, 1].astype('float32')\n",
        "\n",
        "#Encoder is defined here wth the column transformer\n",
        "enc = column_trans.fit(df.drop(columns=['id', 'Decision']))\n",
        "#Features now is encoded by the encoder\n",
        "features = enc.transform(df.drop(columns=['id', 'Decision']))\n",
        "\n",
        "#Defining the scaler and fit on the dataset\n",
        "scaler = StandardScaler()\n",
        "#scaler = RobustScaler()\n",
        "scaler.fit(features)\n",
        "#The features are now standarized by the standard scaler\n",
        "features = scaler.transform(features)"
      ],
      "execution_count": null,
      "outputs": []
    },
    {
      "cell_type": "markdown",
      "source": [
        "**Train/Test set Split**"
      ],
      "metadata": {
        "id": "UcJ7gES3ah7L"
      }
    },
    {
      "cell_type": "code",
      "metadata": {
        "colab": {
          "base_uri": "https://localhost:8080/"
        },
        "id": "werhSFG8g6BV",
        "outputId": "46d37bde-fab4-4426-d630-1443a7ecb354"
      },
      "source": [
        "X_train, X_test, y_train, y_test = train_test_split(features, labels, test_size=0.1, random_state=42)\n",
        "\n",
        "print('Train', X_train.shape, y_train.shape)\n",
        "print('Test', X_test.shape, y_test.shape)"
      ],
      "execution_count": null,
      "outputs": [
        {
          "output_type": "stream",
          "name": "stdout",
          "text": [
            "Train (6723, 20) (6723,)\n",
            "Test (748, 20) (748,)\n"
          ]
        }
      ]
    },
    {
      "cell_type": "markdown",
      "source": [
        "**Random search**"
      ],
      "metadata": {
        "id": "uW64II3DXf34"
      }
    },
    {
      "cell_type": "code",
      "metadata": {
        "colab": {
          "base_uri": "https://localhost:8080/"
        },
        "id": "Bkga2uUr74PX",
        "outputId": "8fe0632d-d2a0-40ba-8f52-a4b1a973aecd"
      },
      "source": [
        "n_estimators = [int(x) for x in np.linspace(start = 200, stop = 2000, num = 10)]\n",
        "max_depth = [int(x) for x in np.linspace(10, 110, num = 11)]\n",
        "max_features = ['auto', 'sqrt']\n",
        "min_samples_split = [2, 5, 10]\n",
        "min_samples_leaf = [1, 5, 10]\n",
        "\n",
        "# Create the random grid\n",
        "random_grid = {'n_estimators': n_estimators,\n",
        "               'max_features': max_features,\n",
        "               'max_depth': max_depth,\n",
        "               'min_samples_split': min_samples_split,\n",
        "               'min_samples_leaf': min_samples_leaf}\n",
        "print(random_grid)"
      ],
      "execution_count": null,
      "outputs": [
        {
          "output_type": "stream",
          "name": "stdout",
          "text": [
            "{'n_estimators': [200, 400, 600, 800, 1000, 1200, 1400, 1600, 1800, 2000], 'max_features': ['auto', 'sqrt'], 'max_depth': [10, 20, 30, 40, 50, 60, 70, 80, 90, 100, 110, None], 'min_samples_split': [2, 5, 10], 'min_samples_leaf': [1, 5, 10]}\n"
          ]
        }
      ]
    },
    {
      "cell_type": "code",
      "metadata": {
        "id": "y3Dy99ym74Z_",
        "colab": {
          "base_uri": "https://localhost:8080/"
        },
        "outputId": "e75987ed-0873-46a5-da7e-74841fc238e5"
      },
      "source": [
        "#Random searching first to identify a good hyperparmeters range\n",
        "clf = RandomForestClassifier()\n",
        "# Random search with 5 fold cross validation, \n",
        "clf_random = RandomizedSearchCV(estimator = clf, param_distributions=random_grid, n_iter=100, cv=5, verbose=2, random_state=42, n_jobs=-1)\n",
        "# Fit the random search model\n",
        "clf_random.fit(X_train, y_train)"
      ],
      "execution_count": null,
      "outputs": [
        {
          "output_type": "stream",
          "name": "stdout",
          "text": [
            "Fitting 5 folds for each of 100 candidates, totalling 500 fits\n"
          ]
        },
        {
          "output_type": "execute_result",
          "data": {
            "text/plain": [
              "RandomizedSearchCV(cv=5, estimator=RandomForestClassifier(), n_iter=100,\n",
              "                   n_jobs=-1,\n",
              "                   param_distributions={'max_depth': [10, 20, 30, 40, 50, 60,\n",
              "                                                      70, 80, 90, 100, 110,\n",
              "                                                      None],\n",
              "                                        'max_features': ['auto', 'sqrt'],\n",
              "                                        'min_samples_leaf': [1, 5, 10],\n",
              "                                        'min_samples_split': [2, 5, 10],\n",
              "                                        'n_estimators': [200, 400, 600, 800,\n",
              "                                                         1000, 1200, 1400, 1600,\n",
              "                                                         1800, 2000]},\n",
              "                   random_state=42, verbose=2)"
            ]
          },
          "metadata": {},
          "execution_count": 10
        }
      ]
    },
    {
      "cell_type": "code",
      "metadata": {
        "id": "zrmijePR74hs",
        "colab": {
          "base_uri": "https://localhost:8080/"
        },
        "outputId": "a08ad6bc-0ac9-4f2c-8f1c-f9339aedcc01"
      },
      "source": [
        "clf_random.best_params_"
      ],
      "execution_count": null,
      "outputs": [
        {
          "output_type": "execute_result",
          "data": {
            "text/plain": [
              "{'max_depth': 20,\n",
              " 'max_features': 'sqrt',\n",
              " 'min_samples_leaf': 1,\n",
              " 'min_samples_split': 2,\n",
              " 'n_estimators': 1200}"
            ]
          },
          "metadata": {},
          "execution_count": 11
        }
      ]
    },
    {
      "cell_type": "markdown",
      "source": [
        "**Fine grid search**"
      ],
      "metadata": {
        "id": "lpKHVc8tXjHq"
      }
    },
    {
      "cell_type": "code",
      "metadata": {
        "id": "5KPAGaR8zGsg"
      },
      "source": [
        "# Create the parameter grid based on the results of random search \n",
        "param_grid = {\n",
        "    'max_depth': [10, 20, 30, 40],\n",
        "    'max_features': ['sqrt'],\n",
        "    'min_samples_leaf': [1, 2, 3],\n",
        "    'min_samples_split': [1, 2, 3],\n",
        "    'n_estimators': [1000, 1100, 1200, 1300]\n",
        "}\n",
        "# Create a based model\n",
        "clf = RandomForestClassifier()\n",
        "# Instantiate the grid search model\n",
        "grid_search = GridSearchCV(estimator=clf, param_grid=param_grid, cv=5, verbose=2, n_jobs=-1)"
      ],
      "execution_count": null,
      "outputs": []
    },
    {
      "cell_type": "code",
      "metadata": {
        "colab": {
          "base_uri": "https://localhost:8080/"
        },
        "id": "PBkh_tfxzNta",
        "outputId": "9d350118-65c8-4a60-bf7a-3b95dc43d233"
      },
      "source": [
        "grid_search.fit(X_train, y_train)\n",
        "grid_search.best_params_"
      ],
      "execution_count": null,
      "outputs": [
        {
          "output_type": "stream",
          "name": "stdout",
          "text": [
            "Fitting 5 folds for each of 108 candidates, totalling 540 fits\n"
          ]
        },
        {
          "output_type": "stream",
          "name": "stderr",
          "text": [
            "/usr/local/lib/python3.7/dist-packages/joblib/externals/loky/process_executor.py:705: UserWarning: A worker stopped while some jobs were given to the executor. This can be caused by a too short worker timeout or by a memory leak.\n",
            "  \"timeout or by a memory leak.\", UserWarning\n",
            "/usr/local/lib/python3.7/dist-packages/sklearn/model_selection/_validation.py:372: FitFailedWarning: \n",
            "180 fits failed out of a total of 540.\n",
            "The score on these train-test partitions for these parameters will be set to nan.\n",
            "If these failures are not expected, you can try to debug them by setting error_score='raise'.\n",
            "\n",
            "Below are more details about the failures:\n",
            "--------------------------------------------------------------------------------\n",
            "180 fits failed with the following error:\n",
            "Traceback (most recent call last):\n",
            "  File \"/usr/local/lib/python3.7/dist-packages/sklearn/model_selection/_validation.py\", line 681, in _fit_and_score\n",
            "    estimator.fit(X_train, y_train, **fit_params)\n",
            "  File \"/usr/local/lib/python3.7/dist-packages/sklearn/ensemble/_forest.py\", line 459, in fit\n",
            "    for i, t in enumerate(trees)\n",
            "  File \"/usr/local/lib/python3.7/dist-packages/joblib/parallel.py\", line 1043, in __call__\n",
            "    if self.dispatch_one_batch(iterator):\n",
            "  File \"/usr/local/lib/python3.7/dist-packages/joblib/parallel.py\", line 861, in dispatch_one_batch\n",
            "    self._dispatch(tasks)\n",
            "  File \"/usr/local/lib/python3.7/dist-packages/joblib/parallel.py\", line 779, in _dispatch\n",
            "    job = self._backend.apply_async(batch, callback=cb)\n",
            "  File \"/usr/local/lib/python3.7/dist-packages/joblib/_parallel_backends.py\", line 208, in apply_async\n",
            "    result = ImmediateResult(func)\n",
            "  File \"/usr/local/lib/python3.7/dist-packages/joblib/_parallel_backends.py\", line 572, in __init__\n",
            "    self.results = batch()\n",
            "  File \"/usr/local/lib/python3.7/dist-packages/joblib/parallel.py\", line 263, in __call__\n",
            "    for func, args, kwargs in self.items]\n",
            "  File \"/usr/local/lib/python3.7/dist-packages/joblib/parallel.py\", line 263, in <listcomp>\n",
            "    for func, args, kwargs in self.items]\n",
            "  File \"/usr/local/lib/python3.7/dist-packages/sklearn/utils/fixes.py\", line 211, in __call__\n",
            "    return self.function(*args, **kwargs)\n",
            "  File \"/usr/local/lib/python3.7/dist-packages/sklearn/ensemble/_forest.py\", line 185, in _parallel_build_trees\n",
            "    tree.fit(X, y, sample_weight=curr_sample_weight, check_input=False)\n",
            "  File \"/usr/local/lib/python3.7/dist-packages/sklearn/tree/_classes.py\", line 942, in fit\n",
            "    X_idx_sorted=X_idx_sorted,\n",
            "  File \"/usr/local/lib/python3.7/dist-packages/sklearn/tree/_classes.py\", line 254, in fit\n",
            "    % self.min_samples_split\n",
            "ValueError: min_samples_split must be an integer greater than 1 or a float in (0.0, 1.0]; got the integer 1\n",
            "\n",
            "  warnings.warn(some_fits_failed_message, FitFailedWarning)\n",
            "/usr/local/lib/python3.7/dist-packages/sklearn/model_selection/_search.py:972: UserWarning: One or more of the test scores are non-finite: [       nan        nan        nan 0.76855616 0.76781267 0.76617676\n",
            " 0.76736635 0.76543249 0.7666223         nan        nan        nan\n",
            " 0.76349918 0.7640942  0.76409409 0.76275524 0.76364788 0.76230948\n",
            "        nan        nan        nan 0.76141662 0.75978038 0.75903689\n",
            " 0.75933417 0.7594832  0.75769793        nan        nan        nan\n",
            " 0.80559303 0.80410659 0.80380908 0.80470172 0.80351235 0.80440498\n",
            "        nan        nan        nan 0.79488471 0.79518189 0.79473613\n",
            " 0.79384283 0.79414067 0.79399208        nan        nan        nan\n",
            " 0.78521586 0.78417508 0.78655426 0.78506672 0.78640534 0.78581043\n",
            "        nan        nan        nan 0.80336177 0.80410626 0.80261827\n",
            " 0.80410648 0.80365983 0.80589109        nan        nan        nan\n",
            " 0.79547907 0.79309955 0.79830512 0.79741326 0.79607386 0.79592527\n",
            "        nan        nan        nan 0.78536433 0.7858101  0.78610794\n",
            " 0.78714872 0.78744645 0.78685143        nan        nan        nan\n",
            " 0.80455213 0.80395667 0.80499834 0.80380875 0.80425529 0.80514737\n",
            "        nan        nan        nan 0.79681769 0.79652062 0.79577735\n",
            " 0.79651996 0.79547907 0.79473579        nan        nan        nan\n",
            " 0.78462007 0.78521564 0.78506683 0.78298427 0.78506627 0.78610794]\n",
            "  category=UserWarning,\n"
          ]
        },
        {
          "output_type": "execute_result",
          "data": {
            "text/plain": [
              "{'max_depth': 30,\n",
              " 'max_features': 'sqrt',\n",
              " 'min_samples_leaf': 1,\n",
              " 'min_samples_split': 3,\n",
              " 'n_estimators': 1300}"
            ]
          },
          "metadata": {},
          "execution_count": 15
        }
      ]
    },
    {
      "cell_type": "markdown",
      "source": [
        "**Optimized model cross validation/test set performance**"
      ],
      "metadata": {
        "id": "RISKrLOjXoR4"
      }
    },
    {
      "cell_type": "code",
      "metadata": {
        "colab": {
          "base_uri": "https://localhost:8080/"
        },
        "id": "uAuml3I09zVU",
        "outputId": "c0236948-c66a-4ff7-c628-0c68c1e50739"
      },
      "source": [
        "clf = RandomForestClassifier(n_estimators=1000, max_depth=30, max_features='sqrt', min_samples_split=3)\n",
        "#10-fold KFold method for cross-validations \n",
        "cross_val_score(clf, X_train, y_train, cv=10, scoring='accuracy').mean()"
      ],
      "execution_count": null,
      "outputs": [
        {
          "output_type": "execute_result",
          "data": {
            "text/plain": [
              "0.8106494993985706"
            ]
          },
          "metadata": {},
          "execution_count": 23
        }
      ]
    },
    {
      "cell_type": "code",
      "source": [
        "time_arr = []\n",
        "for i in range(10):\n",
        "  start = time.time()\n",
        "  clf.fit(X_train, y_train)\n",
        "  end = time.time()\n",
        "  time_arr.append(end - start)\n",
        "\n",
        "print(np.mean(time_arr))"
      ],
      "metadata": {
        "colab": {
          "base_uri": "https://localhost:8080/"
        },
        "id": "E4q0gXjGXFLZ",
        "outputId": "d9406aae-16a3-43c2-e159-a977aa899241"
      },
      "execution_count": null,
      "outputs": [
        {
          "output_type": "stream",
          "name": "stdout",
          "text": [
            "11.672647762298585\n"
          ]
        }
      ]
    },
    {
      "cell_type": "code",
      "source": [
        "clf.fit(X_train, y_train)\n",
        "\n",
        "#Report final performance on test set\n",
        "y_pred = clf.predict(X_test)\n",
        "\n",
        "print(classification_report(y_test, y_pred))"
      ],
      "metadata": {
        "colab": {
          "base_uri": "https://localhost:8080/"
        },
        "id": "zij_htePWZRY",
        "outputId": "55872585-690a-4c98-bd2f-024947f268c9"
      },
      "execution_count": null,
      "outputs": [
        {
          "output_type": "stream",
          "name": "stdout",
          "text": [
            "11.71853756904602\n",
            "              precision    recall  f1-score   support\n",
            "\n",
            "         0.0       0.79      0.69      0.73       256\n",
            "         1.0       0.85      0.90      0.88       492\n",
            "\n",
            "    accuracy                           0.83       748\n",
            "   macro avg       0.82      0.80      0.80       748\n",
            "weighted avg       0.83      0.83      0.83       748\n",
            "\n"
          ]
        }
      ]
    },
    {
      "cell_type": "code",
      "metadata": {
        "colab": {
          "base_uri": "https://localhost:8080/",
          "height": 296
        },
        "id": "NNRS3rQOEbzx",
        "outputId": "a732b562-c434-441a-ec4c-12194f8ae8a8"
      },
      "source": [
        "accs = []\n",
        "\n",
        "n_es_arr = [100, 500, 1000, 1300]\n",
        "for n_estimators in n_es_arr:\n",
        "  clf = RandomForestClassifier(n_estimators=n_estimators, max_depth=30, max_features='sqrt', min_samples_split=3)\n",
        "  acc = cross_val_score(clf, X_train, y_train, cv=10, scoring='accuracy').mean()\n",
        "  accs.append(acc)\n",
        "\n",
        "\n",
        "plt.plot(n_es_arr, accs)\n",
        "plt.xlabel('Number of estimators')\n",
        "plt.ylabel('Accuracy')"
      ],
      "execution_count": null,
      "outputs": [
        {
          "output_type": "execute_result",
          "data": {
            "text/plain": [
              "Text(0, 0.5, 'Accuracy')"
            ]
          },
          "metadata": {},
          "execution_count": 22
        },
        {
          "output_type": "display_data",
          "data": {
            "image/png": "[encoded data removed]",
            "text/plain": [
              "<Figure size 432x288 with 1 Axes>"
            ]
          },
          "metadata": {
            "needs_background": "light"
          }
        }
      ]
    },
    {
      "cell_type": "code",
      "metadata": {
        "colab": {
          "base_uri": "https://localhost:8080/"
        },
        "id": "s9BK1-aGmQac",
        "outputId": "4b3aa4ae-934d-4d09-e8e3-7bb1bbbc0bcc"
      },
      "source": [
        "df_test = pd.read_csv('test.csv')\n",
        "\n",
        "#Cleaning all the NaN entry\n",
        "\n",
        "#df.columns[df.isna().any()].tolist()\n",
        "df_test.columns[df_test.isnull().any()].tolist()\n",
        "\n",
        "\n",
        "df_test['Host_response_time'].fillna(\"No response\", inplace = True)\n",
        "df_test['Host_is_superhost'].fillna(\"t\", inplace = True)\n",
        "df_test['Host_has_profile_pic'].fillna(\"t\", inplace = True)\n",
        "df_test['Host_identity_verified'].fillna(\"t\", inplace = True)\n",
        "df_test['Bedrooms'].fillna(1, inplace = True)\n",
        "df_test['Beds'].fillna(1, inplace = True)\n",
        "df_test['Review_scores_rating'].fillna(review_mean, inplace = True)\n",
        "\n",
        "df_test['Price'] = df_test['Price'].str.replace(',', '')\n",
        "df_test['Price'] = df_test['Price'].str.replace('$', '')\n",
        "df_test['Price'] = df_test['Price'].astype(float)\n",
        "\n",
        "\n",
        "\n",
        "df_test = df_test.replace('Entire serviced apartment', 'Entire apartment')\n",
        "df_test = df_test.replace('Hut', 'Entire residential home')\n",
        "df_test = df_test.replace('Private room in loft', 'Private room in apartment')\n",
        "df_test = df_test.replace('7.5 baths', '3 baths')\n",
        "\n",
        "\n",
        "test_features = enc.transform(df_test.drop(columns=['id']))\n",
        "\n",
        "test_features = scaler.transform(test_features)\n",
        "\n",
        "print(np.mean(test_features[:, 0]), np.std(test_features[:, 0]))"
      ],
      "execution_count": null,
      "outputs": [
        {
          "output_type": "stream",
          "name": "stdout",
          "text": [
            "-0.19272656614965167 1.0847086140890212\n"
          ]
        }
      ]
    },
    {
      "cell_type": "code",
      "metadata": {
        "id": "IpUjzDn1lpVr",
        "colab": {
          "base_uri": "https://localhost:8080/"
        },
        "outputId": "48b3aae3-1206-4c4b-a8fb-5b7a5ebdc391"
      },
      "source": [
        "acc_test = clf.predict(test_features)\n",
        "\n",
        "print(acc_test.shape)"
      ],
      "execution_count": null,
      "outputs": [
        {
          "output_type": "stream",
          "name": "stdout",
          "text": [
            "(2440,)\n"
          ]
        }
      ]
    },
    {
      "cell_type": "code",
      "metadata": {
        "id": "1ZolQIRKmxvO",
        "colab": {
          "base_uri": "https://localhost:8080/"
        },
        "outputId": "bfecf8a4-9fbd-4b0a-e8a9-0cb05f29ecf9"
      },
      "source": [
        "id = np.arange(len(acc_test))+1\n",
        "\n",
        "print(id)\n",
        "\n",
        "save_arr = np.vstack((id, acc_test)).T\n",
        "\n",
        "print(save_arr.shape)\n",
        "\n",
        "np.savetxt(\"RF_120921.csv\", save_arr, fmt='%i', delimiter=\",\", header=\"id,Decision\", comments='')"
      ],
      "execution_count": null,
      "outputs": [
        {
          "output_type": "stream",
          "name": "stdout",
          "text": [
            "[   1    2    3 ... 2438 2439 2440]\n",
            "(2440, 2)\n"
          ]
        }
      ]
    }
  ]
}