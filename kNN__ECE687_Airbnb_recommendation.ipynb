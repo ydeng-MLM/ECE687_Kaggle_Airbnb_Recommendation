{
  "nbformat": 4,
  "nbformat_minor": 0,
  "metadata": {
    "colab": {
      "name": "kNN_ ECE687_Airbnb_recommendation.ipynb",
      "provenance": [],
      "authorship_tag": "ABX9TyP46q0YtaHFc8VA4UGz0X7I",
      "include_colab_link": true
    },
    "kernelspec": {
      "name": "python3",
      "display_name": "Python 3"
    },
    "language_info": {
      "name": "python"
    }
  },
  "cells": [
    {
      "cell_type": "markdown",
      "metadata": {
        "id": "view-in-github",
        "colab_type": "text"
      },
      "source": [
        "<a href=\"https://colab.research.google.com/github/ydeng-MLM/ECE687_Kaggle_Airbnb_Recommendation/blob/main/kNN__ECE687_Airbnb_recommendation.ipynb\" target=\"_parent\"><img src=\"https://colab.research.google.com/assets/colab-badge.svg\" alt=\"Open In Colab\"/></a>"
      ]
    },
    {
      "cell_type": "markdown",
      "metadata": {
        "id": "65bsokb3cmoU"
      },
      "source": [
        "**Import libraries**"
      ]
    },
    {
      "cell_type": "code",
      "metadata": {
        "id": "ehdePfIJcgdT"
      },
      "source": [
        "import numpy as np\n",
        "import pandas as pd\n",
        "import matplotlib.pyplot as plt\n",
        "\n",
        "#Pytorch was used for DNN built, but not enough optimization time \n",
        "import torch\n",
        "from torch.utils.data import DataLoader\n",
        "from torchvision import datasets, transforms\n",
        "import torch.nn.functional as F\n",
        "from torch.utils.data import Dataset\n",
        "from torch import nn\n",
        "\n",
        "#Results analysis library\n",
        "from sklearn.metrics import classification_report, accuracy_score\n",
        "from sklearn.pipeline import make_pipeline\n",
        "from sklearn.model_selection import cross_val_score\n",
        "\n",
        "#Data preparation import\n",
        "from sklearn.model_selection import train_test_split\n",
        "from sklearn.compose import make_column_transformer\n",
        "from sklearn.preprocessing import OneHotEncoder, OrdinalEncoder, LabelEncoder\n",
        "from sklearn.preprocessing import StandardScaler, MinMaxScaler, RobustScaler\n",
        "\n",
        "#ML algorithms import\n",
        "from sklearn import svm\n",
        "from sklearn.ensemble import RandomForestClassifier\n",
        "from sklearn.linear_model import LogisticRegression\n",
        "from sklearn.ensemble import RandomForestClassifier\n",
        "from sklearn.neighbors import KNeighborsClassifier\n",
        "\n",
        "from sklearn.model_selection import GridSearchCV, RandomizedSearchCV\n",
        "import time"
      ],
      "execution_count": null,
      "outputs": []
    },
    {
      "cell_type": "markdown",
      "metadata": {
        "id": "jfQOUmPEc2hD"
      },
      "source": [
        "**Data preparation**"
      ]
    },
    {
      "cell_type": "code",
      "metadata": {
        "id": "dA6wmHcmdsUl"
      },
      "source": [
        "#Reading the data from train.csv\n",
        "df = pd.read_csv('train.csv')"
      ],
      "execution_count": null,
      "outputs": []
    },
    {
      "cell_type": "code",
      "metadata": {
        "colab": {
          "base_uri": "https://localhost:8080/"
        },
        "id": "UpjOo-JVTrq4",
        "outputId": "6f799545-361b-4e44-b847-440cdc66d5f2"
      },
      "source": [
        "#Checking the columns\n",
        "df.columns"
      ],
      "execution_count": null,
      "outputs": [
        {
          "output_type": "execute_result",
          "data": {
            "text/plain": [
              "Index(['id', 'Decision', 'Host_response_time', 'Host_is_superhost',\n",
              "       'Host_has_profile_pic', 'Host_identity_verified', 'Neighbourhood',\n",
              "       'Property_type', 'Room_type', 'Accommodates', 'Bathrooms_text',\n",
              "       'Bedrooms', 'Beds', 'Essentials', 'Cooking', 'Balcony', 'Parking',\n",
              "       'Price', 'Number_of_reviews', 'Review_scores_rating',\n",
              "       'Instant_bookable', 'Month'],\n",
              "      dtype='object')"
            ]
          },
          "metadata": {},
          "execution_count": 3
        }
      ]
    },
    {
      "cell_type": "code",
      "metadata": {
        "colab": {
          "base_uri": "https://localhost:8080/"
        },
        "id": "Tm_fH9lcj_e1",
        "outputId": "69d9198a-06f0-4e59-b397-2ee55eaa097d"
      },
      "source": [
        "#Print out all the NaN entry\n",
        "df.columns[df.isnull().any()].tolist()"
      ],
      "execution_count": null,
      "outputs": [
        {
          "output_type": "execute_result",
          "data": {
            "text/plain": [
              "['Host_response_time',\n",
              " 'Host_is_superhost',\n",
              " 'Host_has_profile_pic',\n",
              " 'Host_identity_verified',\n",
              " 'Bedrooms',\n",
              " 'Beds',\n",
              " 'Review_scores_rating']"
            ]
          },
          "metadata": {},
          "execution_count": 4
        }
      ]
    },
    {
      "cell_type": "code",
      "metadata": {
        "id": "kNm4LdCClBae"
      },
      "source": [
        "#Cleaning all the NaN entry\n",
        "df['Host_response_time'].fillna(\"No response\", inplace = True)\n",
        "df['Host_is_superhost'].fillna(\"t\", inplace = True)\n",
        "df['Host_has_profile_pic'].fillna(\"t\", inplace = True)\n",
        "df['Host_identity_verified'].fillna(\"t\", inplace = True)\n",
        "df['Bedrooms'].fillna(1, inplace = True)\n",
        "df['Beds'].fillna(1, inplace = True)\n",
        "review_mean = df['Review_scores_rating'].mean()\n",
        "df['Review_scores_rating'].fillna(review_mean, inplace = True)\n",
        "\n",
        "df['Price'] = df['Price'].str.replace(',', '')\n",
        "df['Price'] = df['Price'].str.replace('$', '')\n",
        "df['Price'] = df['Price'].astype(float)\n"
      ],
      "execution_count": null,
      "outputs": []
    },
    {
      "cell_type": "code",
      "metadata": {
        "id": "ypEdHemZSj61"
      },
      "source": [
        "#Use column transformer to define specific encoders for each column in the dataframe\n",
        "column_trans = make_column_transformer((OneHotEncoder(drop='if_binary'),\n",
        "                                        ['Host_is_superhost', 'Host_has_profile_pic', 'Host_identity_verified',\n",
        "                                         'Instant_bookable']),\n",
        "                                      (OrdinalEncoder(), ['Host_response_time', 'Neighbourhood', 'Property_type',\n",
        "                                                          'Room_type', 'Bathrooms_text', 'Essentials', \n",
        "                                                          'Month']),\n",
        "                                      remainder='passthrough')"
      ],
      "execution_count": null,
      "outputs": []
    },
    {
      "cell_type": "code",
      "metadata": {
        "id": "IlYcq7BHX8PA"
      },
      "source": [
        "#Defining the label from the dataframe\n",
        "labels = df.to_numpy()[:, 1].astype('float32')\n",
        "\n",
        "#Encoder is defined here wth the column transformer\n",
        "enc = column_trans.fit(df.drop(columns=['id', 'Decision']))\n",
        "#Features now is encoded by the encoder\n",
        "features = enc.transform(df.drop(columns=['id', 'Decision']))\n",
        "\n",
        "#Defining the scaler and fit on the dataset\n",
        "scaler = StandardScaler()\n",
        "#scaler = RobustScaler()\n",
        "scaler.fit(features)\n",
        "#The features are now standarized by the standard scaler\n",
        "features = scaler.transform(features)"
      ],
      "execution_count": null,
      "outputs": []
    },
    {
      "cell_type": "markdown",
      "source": [
        "**Train/Test set Split**"
      ],
      "metadata": {
        "id": "UcJ7gES3ah7L"
      }
    },
    {
      "cell_type": "code",
      "metadata": {
        "colab": {
          "base_uri": "https://localhost:8080/"
        },
        "id": "werhSFG8g6BV",
        "outputId": "c5a3f988-6b67-4efb-d853-b591bc882419"
      },
      "source": [
        "X_train, X_test, y_train, y_test = train_test_split(features, labels, test_size=0.1, random_state=42)\n",
        "\n",
        "print('Train', X_train.shape, y_train.shape)\n",
        "print('Test', X_test.shape, y_test.shape)"
      ],
      "execution_count": null,
      "outputs": [
        {
          "output_type": "stream",
          "name": "stdout",
          "text": [
            "Train (6723, 20) (6723,)\n",
            "Test (748, 20) (748,)\n"
          ]
        }
      ]
    },
    {
      "cell_type": "code",
      "metadata": {
        "colab": {
          "base_uri": "https://localhost:8080/"
        },
        "id": "Bkga2uUr74PX",
        "outputId": "4b1d760b-3198-4bcf-f62b-2f74661ad237"
      },
      "source": [
        "n_neighbors = [1, 5, 10, 30, 50, 100]\n",
        "# Create the random grid\n",
        "random_grid = {'n_neighbors': n_neighbors}\n",
        "print(random_grid)"
      ],
      "execution_count": null,
      "outputs": [
        {
          "output_type": "stream",
          "name": "stdout",
          "text": [
            "{'n_neighbors': [1, 5, 10, 30, 50, 100]}\n"
          ]
        }
      ]
    },
    {
      "cell_type": "code",
      "metadata": {
        "id": "y3Dy99ym74Z_",
        "colab": {
          "base_uri": "https://localhost:8080/"
        },
        "outputId": "710de730-e46c-4d73-8e48-9bf789a1de3d"
      },
      "source": [
        "#Random searching first to identify a good hyperparmeters range\n",
        "clf = KNeighborsClassifier()\n",
        "# Random search with 5 fold cross validation, \n",
        "clf_random = RandomizedSearchCV(estimator = clf, param_distributions=random_grid, n_iter=100, cv=5, verbose=2, random_state=42, n_jobs=-1)\n",
        "# Fit the random search model\n",
        "clf_random.fit(X_train, y_train)"
      ],
      "execution_count": null,
      "outputs": [
        {
          "output_type": "stream",
          "name": "stdout",
          "text": [
            "Fitting 5 folds for each of 6 candidates, totalling 30 fits\n"
          ]
        },
        {
          "output_type": "stream",
          "name": "stderr",
          "text": [
            "/usr/local/lib/python3.7/dist-packages/sklearn/model_selection/_search.py:296: UserWarning: The total space of parameters 6 is smaller than n_iter=100. Running 6 iterations. For exhaustive searches, use GridSearchCV.\n",
            "  UserWarning,\n"
          ]
        },
        {
          "output_type": "execute_result",
          "data": {
            "text/plain": [
              "RandomizedSearchCV(cv=5, estimator=KNeighborsClassifier(), n_iter=100,\n",
              "                   n_jobs=-1,\n",
              "                   param_distributions={'n_neighbors': [1, 5, 10, 30, 50, 100]},\n",
              "                   random_state=42, verbose=2)"
            ]
          },
          "metadata": {},
          "execution_count": 10
        }
      ]
    },
    {
      "cell_type": "code",
      "metadata": {
        "id": "zrmijePR74hs",
        "colab": {
          "base_uri": "https://localhost:8080/"
        },
        "outputId": "c78583ed-0b4e-4f56-e01b-0c61bcba270b"
      },
      "source": [
        "clf_random.best_params_"
      ],
      "execution_count": null,
      "outputs": [
        {
          "output_type": "execute_result",
          "data": {
            "text/plain": [
              "{'n_neighbors': 1}"
            ]
          },
          "metadata": {},
          "execution_count": 11
        }
      ]
    },
    {
      "cell_type": "code",
      "metadata": {
        "id": "5KPAGaR8zGsg"
      },
      "source": [
        "# Create the parameter grid based on the results of random search \n",
        "param_grid = {'n_neighbors': [int(x) for x in range(1, 20)]}\n",
        "# Create a based model\n",
        "clf = KNeighborsClassifier()\n",
        "# Instantiate the grid search model\n",
        "grid_search = GridSearchCV(estimator=clf, param_grid=param_grid, cv=5, verbose=2, n_jobs=-1)"
      ],
      "execution_count": null,
      "outputs": []
    },
    {
      "cell_type": "code",
      "metadata": {
        "colab": {
          "base_uri": "https://localhost:8080/"
        },
        "id": "PBkh_tfxzNta",
        "outputId": "1193b62c-0912-4ec5-d8e3-ef1e04dcbd54"
      },
      "source": [
        "grid_search.fit(X_train, y_train)\n",
        "grid_search.best_params_"
      ],
      "execution_count": null,
      "outputs": [
        {
          "output_type": "stream",
          "name": "stdout",
          "text": [
            "Fitting 5 folds for each of 19 candidates, totalling 95 fits\n"
          ]
        },
        {
          "output_type": "execute_result",
          "data": {
            "text/plain": [
              "{'n_neighbors': 1}"
            ]
          },
          "metadata": {},
          "execution_count": 13
        }
      ]
    },
    {
      "cell_type": "code",
      "metadata": {
        "colab": {
          "base_uri": "https://localhost:8080/"
        },
        "id": "uAuml3I09zVU",
        "outputId": "cedaaef7-8a94-4f65-facf-35659443100f"
      },
      "source": [
        "clf = KNeighborsClassifier(n_neighbors=1)\n",
        "cross_val_score(clf, X_train, y_train, cv=10, scoring='accuracy').mean()"
      ],
      "execution_count": null,
      "outputs": [
        {
          "output_type": "execute_result",
          "data": {
            "text/plain": [
              "0.7278010684214251"
            ]
          },
          "metadata": {},
          "execution_count": 14
        }
      ]
    },
    {
      "cell_type": "code",
      "source": [
        "accs = []\n",
        "\n",
        "nb_arr = [1, 2, 4, 6, 8, 10, 12]\n",
        "for nb in nb_arr:\n",
        "  clf = KNeighborsClassifier(n_neighbors=nb)\n",
        "  acc = cross_val_score(clf, X_train, y_train, cv=10, scoring='accuracy').mean()\n",
        "  accs.append(acc)\n",
        "\n",
        "\n",
        "plt.plot(nb_arr, accs)\n",
        "plt.xlabel('Number of neighbours')\n",
        "plt.ylabel('Accuracy')"
      ],
      "metadata": {
        "colab": {
          "base_uri": "https://localhost:8080/",
          "height": 300
        },
        "id": "S7i46IeGlUXu",
        "outputId": "90589a1f-1384-4d50-b540-969d2ef80114"
      },
      "execution_count": null,
      "outputs": [
        {
          "output_type": "execute_result",
          "data": {
            "text/plain": [
              "Text(0, 0.5, 'Accuracy')"
            ]
          },
          "metadata": {},
          "execution_count": 18
        },
        {
          "output_type": "display_data",
          "data": {
            "image/png": "[encoded data removed]",
            "text/plain": [
              "<Figure size 432x288 with 1 Axes>"
            ]
          },
          "metadata": {
            "needs_background": "light"
          }
        }
      ]
    },
    {
      "cell_type": "code",
      "source": [
        "time_arr = []\n",
        "for i in range(10):\n",
        "  start = time.time()\n",
        "  clf.fit(X_train, y_train)\n",
        "  end = time.time()\n",
        "  time_arr.append(end - start)\n",
        "\n",
        "print(np.mean(time_arr))"
      ],
      "metadata": {
        "id": "Kj144FRhYp_8",
        "colab": {
          "base_uri": "https://localhost:8080/"
        },
        "outputId": "478b7478-93ac-4544-e05d-035d5d916639"
      },
      "execution_count": null,
      "outputs": [
        {
          "output_type": "stream",
          "name": "stdout",
          "text": [
            "0.0023690938949584963\n"
          ]
        }
      ]
    },
    {
      "cell_type": "code",
      "source": [
        "clf.fit(X_train, y_train)\n",
        "\n",
        "y_pred = clf.predict(X_test)\n",
        "\n",
        "print(classification_report(y_test, y_pred))"
      ],
      "metadata": {
        "colab": {
          "base_uri": "https://localhost:8080/"
        },
        "id": "zij_htePWZRY",
        "outputId": "430fd544-0b3c-4b74-ecb7-92efb6e12966"
      },
      "execution_count": null,
      "outputs": [
        {
          "output_type": "stream",
          "name": "stdout",
          "text": [
            "              precision    recall  f1-score   support\n",
            "\n",
            "         0.0       0.59      0.65      0.62       256\n",
            "         1.0       0.81      0.76      0.78       492\n",
            "\n",
            "    accuracy                           0.72       748\n",
            "   macro avg       0.70      0.71      0.70       748\n",
            "weighted avg       0.73      0.72      0.73       748\n",
            "\n"
          ]
        }
      ]
    }
  ]
}