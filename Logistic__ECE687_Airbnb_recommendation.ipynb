{
  "nbformat": 4,
  "nbformat_minor": 0,
  "metadata": {
    "colab": {
      "name": "Logistic_ ECE687_Airbnb_recommendation.ipynb",
      "provenance": [],
      "authorship_tag": "ABX9TyOoc19RTkU7BsQDeLPiqemg",
      "include_colab_link": true
    },
    "kernelspec": {
      "name": "python3",
      "display_name": "Python 3"
    },
    "language_info": {
      "name": "python"
    }
  },
  "cells": [
    {
      "cell_type": "markdown",
      "metadata": {
        "id": "view-in-github",
        "colab_type": "text"
      },
      "source": [
        "<a href=\"https://colab.research.google.com/github/ydeng-MLM/ECE687_Kaggle_Airbnb_Recommendation/blob/main/Logistic__ECE687_Airbnb_recommendation.ipynb\" target=\"_parent\"><img src=\"https://colab.research.google.com/assets/colab-badge.svg\" alt=\"Open In Colab\"/></a>"
      ]
    },
    {
      "cell_type": "markdown",
      "metadata": {
        "id": "65bsokb3cmoU"
      },
      "source": [
        "**Import libraries**"
      ]
    },
    {
      "cell_type": "code",
      "metadata": {
        "id": "ehdePfIJcgdT"
      },
      "source": [
        "import numpy as np\n",
        "import pandas as pd\n",
        "import matplotlib.pyplot as plt\n",
        "\n",
        "#Pytorch was used for DNN built, but not enough optimization time \n",
        "import torch\n",
        "from torch.utils.data import DataLoader\n",
        "from torchvision import datasets, transforms\n",
        "import torch.nn.functional as F\n",
        "from torch.utils.data import Dataset\n",
        "from torch import nn\n",
        "\n",
        "#Results analysis library\n",
        "from sklearn.metrics import classification_report, accuracy_score\n",
        "from sklearn.pipeline import make_pipeline\n",
        "from sklearn.model_selection import cross_val_score\n",
        "\n",
        "#Data preparation import\n",
        "from sklearn.model_selection import train_test_split\n",
        "from sklearn.compose import make_column_transformer\n",
        "from sklearn.preprocessing import OneHotEncoder, OrdinalEncoder, LabelEncoder\n",
        "from sklearn.preprocessing import StandardScaler, MinMaxScaler, RobustScaler\n",
        "\n",
        "#ML algorithms import\n",
        "from sklearn import svm\n",
        "from sklearn.ensemble import RandomForestClassifier\n",
        "from sklearn.linear_model import LogisticRegression\n",
        "from sklearn.ensemble import RandomForestClassifier\n",
        "from sklearn.neighbors import KNeighborsClassifier\n",
        "\n",
        "from sklearn.model_selection import GridSearchCV, RandomizedSearchCV\n",
        "import time"
      ],
      "execution_count": null,
      "outputs": []
    },
    {
      "cell_type": "markdown",
      "metadata": {
        "id": "jfQOUmPEc2hD"
      },
      "source": [
        "**Data preparation**"
      ]
    },
    {
      "cell_type": "code",
      "metadata": {
        "id": "dA6wmHcmdsUl"
      },
      "source": [
        "#Reading the data from train.csv\n",
        "df = pd.read_csv('train.csv')"
      ],
      "execution_count": null,
      "outputs": []
    },
    {
      "cell_type": "code",
      "metadata": {
        "colab": {
          "base_uri": "https://localhost:8080/"
        },
        "id": "UpjOo-JVTrq4",
        "outputId": "dacd38cf-b1ac-45e0-8e9c-7f8fa6baf97e"
      },
      "source": [
        "#Checking the columns\n",
        "df.columns"
      ],
      "execution_count": null,
      "outputs": [
        {
          "output_type": "execute_result",
          "data": {
            "text/plain": [
              "Index(['id', 'Decision', 'Host_response_time', 'Host_is_superhost',\n",
              "       'Host_has_profile_pic', 'Host_identity_verified', 'Neighbourhood',\n",
              "       'Property_type', 'Room_type', 'Accommodates', 'Bathrooms_text',\n",
              "       'Bedrooms', 'Beds', 'Essentials', 'Cooking', 'Balcony', 'Parking',\n",
              "       'Price', 'Number_of_reviews', 'Review_scores_rating',\n",
              "       'Instant_bookable', 'Month'],\n",
              "      dtype='object')"
            ]
          },
          "metadata": {},
          "execution_count": 3
        }
      ]
    },
    {
      "cell_type": "code",
      "metadata": {
        "colab": {
          "base_uri": "https://localhost:8080/"
        },
        "id": "Tm_fH9lcj_e1",
        "outputId": "9dda0a5d-f425-4275-aff4-d097383d0b63"
      },
      "source": [
        "#Print out all the NaN entry\n",
        "df.columns[df.isnull().any()].tolist()"
      ],
      "execution_count": null,
      "outputs": [
        {
          "output_type": "execute_result",
          "data": {
            "text/plain": [
              "['Host_response_time',\n",
              " 'Host_is_superhost',\n",
              " 'Host_has_profile_pic',\n",
              " 'Host_identity_verified',\n",
              " 'Bedrooms',\n",
              " 'Beds',\n",
              " 'Review_scores_rating']"
            ]
          },
          "metadata": {},
          "execution_count": 4
        }
      ]
    },
    {
      "cell_type": "code",
      "metadata": {
        "id": "kNm4LdCClBae"
      },
      "source": [
        "#Cleaning all the NaN entry\n",
        "df['Host_response_time'].fillna(\"No response\", inplace = True)\n",
        "df['Host_is_superhost'].fillna(\"t\", inplace = True)\n",
        "df['Host_has_profile_pic'].fillna(\"t\", inplace = True)\n",
        "df['Host_identity_verified'].fillna(\"t\", inplace = True)\n",
        "df['Bedrooms'].fillna(1, inplace = True)\n",
        "df['Beds'].fillna(1, inplace = True)\n",
        "review_mean = df['Review_scores_rating'].mean()\n",
        "df['Review_scores_rating'].fillna(review_mean, inplace = True)\n",
        "\n",
        "df['Price'] = df['Price'].str.replace(',', '')\n",
        "df['Price'] = df['Price'].str.replace('$', '')\n",
        "df['Price'] = df['Price'].astype(float)\n"
      ],
      "execution_count": null,
      "outputs": []
    },
    {
      "cell_type": "code",
      "metadata": {
        "id": "ypEdHemZSj61"
      },
      "source": [
        "#Use column transformer to define specific encoders for each column in the dataframe\n",
        "column_trans = make_column_transformer((OneHotEncoder(drop='if_binary'),\n",
        "                                        ['Host_is_superhost', 'Host_has_profile_pic', 'Host_identity_verified',\n",
        "                                         'Instant_bookable']),\n",
        "                                      (OrdinalEncoder(), ['Host_response_time', 'Neighbourhood', 'Property_type',\n",
        "                                                          'Room_type', 'Bathrooms_text', 'Essentials', \n",
        "                                                          'Month']),\n",
        "                                      remainder='passthrough')"
      ],
      "execution_count": null,
      "outputs": []
    },
    {
      "cell_type": "code",
      "metadata": {
        "id": "IlYcq7BHX8PA"
      },
      "source": [
        "#Defining the label from the dataframe\n",
        "labels = df.to_numpy()[:, 1].astype('float32')\n",
        "\n",
        "#Encoder is defined here wth the column transformer\n",
        "enc = column_trans.fit(df.drop(columns=['id', 'Decision']))\n",
        "#Features now is encoded by the encoder\n",
        "features = enc.transform(df.drop(columns=['id', 'Decision']))\n",
        "\n",
        "#Defining the scaler and fit on the dataset\n",
        "scaler = StandardScaler()\n",
        "#scaler = RobustScaler()\n",
        "scaler.fit(features)\n",
        "#The features are now standarized by the standard scaler\n",
        "features = scaler.transform(features)"
      ],
      "execution_count": null,
      "outputs": []
    },
    {
      "cell_type": "markdown",
      "source": [
        "**Train/Test set Split**"
      ],
      "metadata": {
        "id": "UcJ7gES3ah7L"
      }
    },
    {
      "cell_type": "code",
      "metadata": {
        "colab": {
          "base_uri": "https://localhost:8080/"
        },
        "id": "werhSFG8g6BV",
        "outputId": "49a0ac3e-629f-49e8-8438-f432429cbb0a"
      },
      "source": [
        "X_train, X_test, y_train, y_test = train_test_split(features, labels, test_size=0.1, random_state=42)\n",
        "\n",
        "print('Train', X_train.shape, y_train.shape)\n",
        "print('Test', X_test.shape, y_test.shape)"
      ],
      "execution_count": null,
      "outputs": [
        {
          "output_type": "stream",
          "name": "stdout",
          "text": [
            "Train (6723, 20) (6723,)\n",
            "Test (748, 20) (748,)\n"
          ]
        }
      ]
    },
    {
      "cell_type": "code",
      "metadata": {
        "colab": {
          "base_uri": "https://localhost:8080/"
        },
        "id": "Bkga2uUr74PX",
        "outputId": "45675283-b3c4-4e05-e65e-0e657dd3c14d"
      },
      "source": [
        "solver = ['newton-cg', 'lbfgs', 'liblinear', 'sag', 'saga']\n",
        "C = [1e-4, 1e-3, 1e-2, 1e-1, 1, 10, 100]\n",
        "# Create the random grid\n",
        "random_grid = {'solver': solver, 'C': C}\n",
        "print(random_grid)"
      ],
      "execution_count": null,
      "outputs": [
        {
          "output_type": "stream",
          "name": "stdout",
          "text": [
            "{'solver': ['newton-cg', 'lbfgs', 'liblinear', 'sag', 'saga'], 'C': [0.0001, 0.001, 0.01, 0.1, 1, 10, 100]}\n"
          ]
        }
      ]
    },
    {
      "cell_type": "code",
      "metadata": {
        "id": "y3Dy99ym74Z_",
        "colab": {
          "base_uri": "https://localhost:8080/"
        },
        "outputId": "324cd694-a557-491f-ee6f-0d2ed3617162"
      },
      "source": [
        "#Random searching first to identify a good hyperparmeters range\n",
        "clf = LogisticRegression()\n",
        "# Random search with 5 fold cross validation, \n",
        "clf_random = RandomizedSearchCV(estimator = clf, param_distributions=random_grid, n_iter=100, cv=5, verbose=2, random_state=42, n_jobs=-1)\n",
        "# Fit the random search model\n",
        "clf_random.fit(X_train, y_train)"
      ],
      "execution_count": null,
      "outputs": [
        {
          "output_type": "stream",
          "name": "stdout",
          "text": [
            "Fitting 5 folds for each of 35 candidates, totalling 175 fits\n"
          ]
        },
        {
          "output_type": "stream",
          "name": "stderr",
          "text": [
            "/usr/local/lib/python3.7/dist-packages/sklearn/model_selection/_search.py:296: UserWarning: The total space of parameters 35 is smaller than n_iter=100. Running 35 iterations. For exhaustive searches, use GridSearchCV.\n",
            "  UserWarning,\n"
          ]
        },
        {
          "output_type": "execute_result",
          "data": {
            "text/plain": [
              "RandomizedSearchCV(cv=5, estimator=LogisticRegression(), n_iter=100, n_jobs=-1,\n",
              "                   param_distributions={'C': [0.0001, 0.001, 0.01, 0.1, 1, 10,\n",
              "                                              100],\n",
              "                                        'solver': ['newton-cg', 'lbfgs',\n",
              "                                                   'liblinear', 'sag',\n",
              "                                                   'saga']},\n",
              "                   random_state=42, verbose=2)"
            ]
          },
          "metadata": {},
          "execution_count": 18
        }
      ]
    },
    {
      "cell_type": "code",
      "metadata": {
        "id": "zrmijePR74hs",
        "colab": {
          "base_uri": "https://localhost:8080/"
        },
        "outputId": "895c078d-6e02-40e5-86aa-f9c1f293d670"
      },
      "source": [
        "clf_random.best_params_"
      ],
      "execution_count": null,
      "outputs": [
        {
          "output_type": "execute_result",
          "data": {
            "text/plain": [
              "{'C': 0.1, 'solver': 'newton-cg'}"
            ]
          },
          "metadata": {},
          "execution_count": 19
        }
      ]
    },
    {
      "cell_type": "code",
      "metadata": {
        "id": "5KPAGaR8zGsg"
      },
      "source": [
        "# Create the parameter grid based on the results of random search \n",
        "param_grid = {'C': [0.05, 0.1, 0.2, 0.5, 1]}\n",
        "# Create a based model\n",
        "clf = LogisticRegression(solver='newton-cg')\n",
        "# Instantiate the grid search model\n",
        "grid_search = GridSearchCV(estimator=clf, param_grid=param_grid, cv=10, verbose=2, n_jobs=-1)"
      ],
      "execution_count": null,
      "outputs": []
    },
    {
      "cell_type": "code",
      "metadata": {
        "colab": {
          "base_uri": "https://localhost:8080/"
        },
        "id": "PBkh_tfxzNta",
        "outputId": "bb613aae-c703-4ef2-c94b-8fc604c71163"
      },
      "source": [
        "grid_search.fit(X_train, y_train)\n",
        "grid_search.best_params_"
      ],
      "execution_count": null,
      "outputs": [
        {
          "output_type": "stream",
          "name": "stdout",
          "text": [
            "Fitting 10 folds for each of 5 candidates, totalling 50 fits\n"
          ]
        },
        {
          "output_type": "execute_result",
          "data": {
            "text/plain": [
              "{'C': 0.05}"
            ]
          },
          "metadata": {},
          "execution_count": 32
        }
      ]
    },
    {
      "cell_type": "code",
      "metadata": {
        "colab": {
          "base_uri": "https://localhost:8080/"
        },
        "id": "uAuml3I09zVU",
        "outputId": "1c94441a-7525-4e06-fd94-ba5b898d4a9f"
      },
      "source": [
        "clf = LogisticRegression(solver='newton-cg', C=0.2)\n",
        "cross_val_score(clf, X_train, y_train, cv=10, scoring='accuracy').mean()"
      ],
      "execution_count": null,
      "outputs": [
        {
          "output_type": "execute_result",
          "data": {
            "text/plain": [
              "0.6886814105285501"
            ]
          },
          "metadata": {},
          "execution_count": 33
        }
      ]
    },
    {
      "cell_type": "code",
      "source": [
        "time_arr = []\n",
        "for i in range(10):\n",
        "  start = time.time()\n",
        "  clf.fit(X_train, y_train)\n",
        "  end = time.time()\n",
        "  time_arr.append(end - start)\n",
        "\n",
        "print(np.mean(time_arr))"
      ],
      "metadata": {
        "colab": {
          "base_uri": "https://localhost:8080/"
        },
        "id": "Kj144FRhYp_8",
        "outputId": "38981d7f-db3c-4b1c-a994-224bd2e570c9"
      },
      "execution_count": null,
      "outputs": [
        {
          "output_type": "stream",
          "name": "stdout",
          "text": [
            "0.06924653053283691\n"
          ]
        }
      ]
    },
    {
      "cell_type": "code",
      "source": [
        "accs = []\n",
        "\n",
        "C_arr = [0.05, 0.1, 0.15, 0.2]\n",
        "for C in C_arr:\n",
        "  clf = LogisticRegression(solver='newton-cg', C=C)\n",
        "  acc = cross_val_score(clf, X_train, y_train, cv=10, scoring='accuracy').mean()\n",
        "  accs.append(acc)\n",
        "\n",
        "\n",
        "plt.plot(C_arr, accs)\n",
        "plt.xlabel('C values')\n",
        "plt.ylabel('Accuracy')"
      ],
      "metadata": {
        "colab": {
          "base_uri": "https://localhost:8080/",
          "height": 296
        },
        "id": "9O1w_OY8lmxB",
        "outputId": "12b5d284-00b0-4260-97a8-13a22884e683"
      },
      "execution_count": null,
      "outputs": [
        {
          "output_type": "execute_result",
          "data": {
            "text/plain": [
              "Text(0, 0.5, 'Accuracy')"
            ]
          },
          "metadata": {},
          "execution_count": 36
        },
        {
          "output_type": "display_data",
          "data": {
            "image/png": "[encoded data removed]",
            "text/plain": [
              "<Figure size 432x288 with 1 Axes>"
            ]
          },
          "metadata": {
            "needs_background": "light"
          }
        }
      ]
    },
    {
      "cell_type": "code",
      "source": [
        "clf.fit(X_train, y_train)\n",
        "\n",
        "y_pred = clf.predict(X_test)\n",
        "\n",
        "print(classification_report(y_test, y_pred))"
      ],
      "metadata": {
        "colab": {
          "base_uri": "https://localhost:8080/"
        },
        "id": "zij_htePWZRY",
        "outputId": "afd56287-8ae4-4e0b-d6ef-af7472e337d1"
      },
      "execution_count": null,
      "outputs": [
        {
          "output_type": "stream",
          "name": "stdout",
          "text": [
            "              precision    recall  f1-score   support\n",
            "\n",
            "         0.0       0.65      0.39      0.48       256\n",
            "         1.0       0.74      0.89      0.81       492\n",
            "\n",
            "    accuracy                           0.72       748\n",
            "   macro avg       0.69      0.64      0.64       748\n",
            "weighted avg       0.71      0.72      0.70       748\n",
            "\n"
          ]
        }
      ]
    }
  ]
}