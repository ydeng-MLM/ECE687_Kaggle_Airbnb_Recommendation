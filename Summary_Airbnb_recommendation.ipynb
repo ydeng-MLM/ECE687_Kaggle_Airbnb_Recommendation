{
  "nbformat": 4,
  "nbformat_minor": 0,
  "metadata": {
    "colab": {
      "name": "Summary_Airbnb_recommendation.ipynb",
      "provenance": [],
      "authorship_tag": "ABX9TyNAIV7Q+fgWXT8K/OIAg7rK",
      "include_colab_link": true
    },
    "kernelspec": {
      "name": "python3",
      "display_name": "Python 3"
    },
    "language_info": {
      "name": "python"
    }
  },
  "cells": [
    {
      "cell_type": "markdown",
      "metadata": {
        "id": "view-in-github",
        "colab_type": "text"
      },
      "source": [
        "<a href=\"https://colab.research.google.com/github/ydeng-MLM/ECE687_Kaggle_Airbnb_Recommendation/blob/main/Summary_Airbnb_recommendation.ipynb\" target=\"_parent\"><img src=\"https://colab.research.google.com/assets/colab-badge.svg\" alt=\"Open In Colab\"/></a>"
      ]
    },
    {
      "cell_type": "markdown",
      "metadata": {
        "id": "65bsokb3cmoU"
      },
      "source": [
        "**Import libraries**"
      ]
    },
    {
      "cell_type": "code",
      "metadata": {
        "id": "ehdePfIJcgdT"
      },
      "source": [
        "import numpy as np\n",
        "import pandas as pd\n",
        "import matplotlib.pyplot as plt\n",
        "\n",
        "#Pytorch was used for DNN built, but not enough optimization time \n",
        "import torch\n",
        "from torch.utils.data import DataLoader\n",
        "from torchvision import datasets, transforms\n",
        "import torch.nn.functional as F\n",
        "from torch.utils.data import Dataset\n",
        "from torch import nn\n",
        "\n",
        "#Results analysis library\n",
        "from sklearn.metrics import classification_report, accuracy_score, precision_score, recall_score\n",
        "from sklearn.pipeline import make_pipeline\n",
        "from sklearn.model_selection import cross_val_score\n",
        "\n",
        "#Data preparation import\n",
        "from sklearn.model_selection import train_test_split\n",
        "from sklearn.compose import make_column_transformer\n",
        "from sklearn.preprocessing import OneHotEncoder, OrdinalEncoder, LabelEncoder\n",
        "from sklearn.preprocessing import StandardScaler, MinMaxScaler, RobustScaler\n",
        "\n",
        "#ML algorithms import\n",
        "from sklearn import svm\n",
        "from sklearn.ensemble import RandomForestClassifier\n",
        "from sklearn.linear_model import LogisticRegression\n",
        "from sklearn.ensemble import RandomForestClassifier\n",
        "from sklearn.neighbors import KNeighborsClassifier\n",
        "\n",
        "from sklearn.model_selection import GridSearchCV, RandomizedSearchCV\n",
        "import time"
      ],
      "execution_count": null,
      "outputs": []
    },
    {
      "cell_type": "markdown",
      "metadata": {
        "id": "jfQOUmPEc2hD"
      },
      "source": [
        "**Data preparation**"
      ]
    },
    {
      "cell_type": "code",
      "metadata": {
        "id": "dA6wmHcmdsUl"
      },
      "source": [
        "#Reading the data from train.csv\n",
        "df = pd.read_csv('train.csv')"
      ],
      "execution_count": null,
      "outputs": []
    },
    {
      "cell_type": "code",
      "metadata": {
        "colab": {
          "base_uri": "https://localhost:8080/"
        },
        "id": "UpjOo-JVTrq4",
        "outputId": "93e3b169-d111-40fb-d6e6-d2840c117bbc"
      },
      "source": [
        "#Checking the columns\n",
        "df.columns"
      ],
      "execution_count": null,
      "outputs": [
        {
          "output_type": "execute_result",
          "data": {
            "text/plain": [
              "Index(['id', 'Decision', 'Host_response_time', 'Host_is_superhost',\n",
              "       'Host_has_profile_pic', 'Host_identity_verified', 'Neighbourhood',\n",
              "       'Property_type', 'Room_type', 'Accommodates', 'Bathrooms_text',\n",
              "       'Bedrooms', 'Beds', 'Essentials', 'Cooking', 'Balcony', 'Parking',\n",
              "       'Price', 'Number_of_reviews', 'Review_scores_rating',\n",
              "       'Instant_bookable', 'Month'],\n",
              "      dtype='object')"
            ]
          },
          "metadata": {},
          "execution_count": 3
        }
      ]
    },
    {
      "cell_type": "code",
      "metadata": {
        "colab": {
          "base_uri": "https://localhost:8080/"
        },
        "id": "Tm_fH9lcj_e1",
        "outputId": "fa9c0d3b-49a2-4878-ab0c-03ca1e963759"
      },
      "source": [
        "#Print out all the NaN entry\n",
        "df.columns[df.isnull().any()].tolist()"
      ],
      "execution_count": null,
      "outputs": [
        {
          "output_type": "execute_result",
          "data": {
            "text/plain": [
              "['Host_response_time',\n",
              " 'Host_is_superhost',\n",
              " 'Host_has_profile_pic',\n",
              " 'Host_identity_verified',\n",
              " 'Bedrooms',\n",
              " 'Beds',\n",
              " 'Review_scores_rating']"
            ]
          },
          "metadata": {},
          "execution_count": 4
        }
      ]
    },
    {
      "cell_type": "code",
      "metadata": {
        "id": "kNm4LdCClBae"
      },
      "source": [
        "#Cleaning all the NaN entry\n",
        "df['Host_response_time'].fillna(\"No response\", inplace = True)\n",
        "df['Host_is_superhost'].fillna(\"t\", inplace = True)\n",
        "df['Host_has_profile_pic'].fillna(\"t\", inplace = True)\n",
        "df['Host_identity_verified'].fillna(\"t\", inplace = True)\n",
        "df['Bedrooms'].fillna(1, inplace = True)\n",
        "df['Beds'].fillna(1, inplace = True)\n",
        "review_mean = df['Review_scores_rating'].mean()\n",
        "df['Review_scores_rating'].fillna(review_mean, inplace = True)\n",
        "\n",
        "df['Price'] = df['Price'].str.replace(',', '')\n",
        "df['Price'] = df['Price'].str.replace('$', '')\n",
        "df['Price'] = df['Price'].astype(float)\n"
      ],
      "execution_count": null,
      "outputs": []
    },
    {
      "cell_type": "code",
      "metadata": {
        "id": "ypEdHemZSj61"
      },
      "source": [
        "#Use column transformer to define specific encoders for each column in the dataframe\n",
        "column_trans = make_column_transformer((OneHotEncoder(drop='if_binary'),\n",
        "                                        ['Host_is_superhost', 'Host_has_profile_pic', 'Host_identity_verified',\n",
        "                                         'Instant_bookable']),\n",
        "                                      (OrdinalEncoder(), ['Host_response_time', 'Neighbourhood', 'Property_type',\n",
        "                                                          'Room_type', 'Bathrooms_text', 'Essentials', \n",
        "                                                          'Month']),\n",
        "                                      remainder='passthrough')"
      ],
      "execution_count": null,
      "outputs": []
    },
    {
      "cell_type": "code",
      "metadata": {
        "id": "IlYcq7BHX8PA"
      },
      "source": [
        "#Defining the label from the dataframe\n",
        "labels = df.to_numpy()[:, 1].astype('float32')\n",
        "\n",
        "#Encoder is defined here wth the column transformer\n",
        "enc = column_trans.fit(df.drop(columns=['id', 'Decision']))\n",
        "#Features now is encoded by the encoder\n",
        "features = enc.transform(df.drop(columns=['id', 'Decision']))\n",
        "\n",
        "#Defining the scaler and fit on the dataset\n",
        "scaler = StandardScaler()\n",
        "#scaler = RobustScaler()\n",
        "scaler.fit(features)\n",
        "#The features are now standarized by the standard scaler\n",
        "features = scaler.transform(features)"
      ],
      "execution_count": null,
      "outputs": []
    },
    {
      "cell_type": "markdown",
      "source": [
        "**Train/Test set Split**"
      ],
      "metadata": {
        "id": "UcJ7gES3ah7L"
      }
    },
    {
      "cell_type": "code",
      "metadata": {
        "colab": {
          "base_uri": "https://localhost:8080/"
        },
        "id": "werhSFG8g6BV",
        "outputId": "9feef974-1ac5-4b58-9ba5-9d7eac7040e9"
      },
      "source": [
        "X_train, X_test, y_train, y_test = train_test_split(features, labels, test_size=0.1, random_state=42)\n",
        "\n",
        "print('Train', X_train.shape, y_train.shape)\n",
        "print('Test', X_test.shape, y_test.shape)"
      ],
      "execution_count": null,
      "outputs": [
        {
          "output_type": "stream",
          "name": "stdout",
          "text": [
            "Train (6723, 20) (6723,)\n",
            "Test (748, 20) (748,)\n"
          ]
        }
      ]
    },
    {
      "cell_type": "markdown",
      "source": [
        "**Summary of all model cross validation/test set performance**"
      ],
      "metadata": {
        "id": "RISKrLOjXoR4"
      }
    },
    {
      "cell_type": "code",
      "metadata": {
        "id": "uAuml3I09zVU"
      },
      "source": [
        "rf = RandomForestClassifier(n_estimators=1300, max_depth=30, max_features='sqrt', min_samples_split=3)\n",
        "rf_cv = cross_val_score(rf, X_train, y_train, cv=10, scoring='accuracy')\n",
        "\n",
        "SVM = svm.SVC(kernel='rbf', C=10, gamma=0.1)\n",
        "SVM_cv = cross_val_score(SVM, X_train, y_train, cv=10, scoring='accuracy')\n",
        "\n",
        "LR = LogisticRegression(solver='newton-cg', C=0.2)\n",
        "LR_cv = cross_val_score(LR, X_train, y_train, cv=10, scoring='accuracy')\n",
        "\n",
        "kNN = KNeighborsClassifier(n_neighbors=1)\n",
        "kNN_cv = cross_val_score(kNN, X_train, y_train, cv=10, scoring='accuracy')"
      ],
      "execution_count": null,
      "outputs": []
    },
    {
      "cell_type": "code",
      "source": [
        "rf.fit(X_train, y_train)\n",
        "SVM.fit(X_train, y_train)\n",
        "LR.fit(X_train, y_train)\n",
        "kNN.fit(X_train, y_train)\n",
        "\n",
        "#Report final performance on test set\n",
        "y_pred_rf = rf.predict(X_test)\n",
        "y_pred_SVM = SVM.predict(X_test)\n",
        "y_pred_LR = LR.predict(X_test)\n",
        "y_pred_kNN = kNN.predict(X_test)"
      ],
      "metadata": {
        "id": "zij_htePWZRY"
      },
      "execution_count": null,
      "outputs": []
    },
    {
      "cell_type": "code",
      "source": [
        "print(classification_report(y_test, y_pred_rf))\n",
        "print(classification_report(y_test, y_pred_SVM))\n",
        "print(classification_report(y_test, y_pred_LR))\n",
        "print(classification_report(y_test, y_pred_kNN))"
      ],
      "metadata": {
        "colab": {
          "base_uri": "https://localhost:8080/"
        },
        "id": "JwHudzvWt6CH",
        "outputId": "532233cc-d00b-493c-c3ad-a44810c7084a"
      },
      "execution_count": null,
      "outputs": [
        {
          "output_type": "stream",
          "name": "stdout",
          "text": [
            "              precision    recall  f1-score   support\n",
            "\n",
            "         0.0       0.78      0.68      0.73       256\n",
            "         1.0       0.85      0.90      0.87       492\n",
            "\n",
            "    accuracy                           0.83       748\n",
            "   macro avg       0.82      0.79      0.80       748\n",
            "weighted avg       0.82      0.83      0.82       748\n",
            "\n",
            "              precision    recall  f1-score   support\n",
            "\n",
            "         0.0       0.68      0.58      0.63       256\n",
            "         1.0       0.80      0.86      0.83       492\n",
            "\n",
            "    accuracy                           0.76       748\n",
            "   macro avg       0.74      0.72      0.73       748\n",
            "weighted avg       0.76      0.76      0.76       748\n",
            "\n",
            "              precision    recall  f1-score   support\n",
            "\n",
            "         0.0       0.65      0.39      0.48       256\n",
            "         1.0       0.74      0.89      0.81       492\n",
            "\n",
            "    accuracy                           0.72       748\n",
            "   macro avg       0.69      0.64      0.64       748\n",
            "weighted avg       0.71      0.72      0.70       748\n",
            "\n",
            "              precision    recall  f1-score   support\n",
            "\n",
            "         0.0       0.59      0.65      0.62       256\n",
            "         1.0       0.81      0.76      0.78       492\n",
            "\n",
            "    accuracy                           0.72       748\n",
            "   macro avg       0.70      0.71      0.70       748\n",
            "weighted avg       0.73      0.72      0.73       748\n",
            "\n"
          ]
        }
      ]
    },
    {
      "cell_type": "code",
      "source": [
        "from sklearn.metrics import plot_roc_curve\n",
        "\n",
        "\n",
        "plt.figure()\n",
        "rf_disp = plot_roc_curve(rf, X_test, y_test)\n",
        "plot_roc_curve(SVM, X_test, y_test, ax=rf_disp.ax_)\n",
        "plot_roc_curve(LR, X_test, y_test, ax=rf_disp.ax_)\n",
        "plot_roc_curve(kNN, X_test, y_test, ax=rf_disp.ax_)\n"
      ],
      "metadata": {
        "colab": {
          "base_uri": "https://localhost:8080/",
          "height": 473
        },
        "id": "0O7xDymdwc5O",
        "outputId": "7e17e5de-7495-4381-d014-ca07110b0f3c"
      },
      "execution_count": null,
      "outputs": [
        {
          "output_type": "stream",
          "name": "stderr",
          "text": [
            "/usr/local/lib/python3.7/dist-packages/sklearn/utils/deprecation.py:87: FutureWarning: Function plot_roc_curve is deprecated; Function `plot_roc_curve` is deprecated in 1.0 and will be removed in 1.2. Use one of the class methods: RocCurveDisplay.from_predictions or RocCurveDisplay.from_estimator.\n",
            "  warnings.warn(msg, category=FutureWarning)\n",
            "/usr/local/lib/python3.7/dist-packages/sklearn/utils/deprecation.py:87: FutureWarning: Function plot_roc_curve is deprecated; Function `plot_roc_curve` is deprecated in 1.0 and will be removed in 1.2. Use one of the class methods: RocCurveDisplay.from_predictions or RocCurveDisplay.from_estimator.\n",
            "  warnings.warn(msg, category=FutureWarning)\n",
            "/usr/local/lib/python3.7/dist-packages/sklearn/utils/deprecation.py:87: FutureWarning: Function plot_roc_curve is deprecated; Function `plot_roc_curve` is deprecated in 1.0 and will be removed in 1.2. Use one of the class methods: RocCurveDisplay.from_predictions or RocCurveDisplay.from_estimator.\n",
            "  warnings.warn(msg, category=FutureWarning)\n",
            "/usr/local/lib/python3.7/dist-packages/sklearn/utils/deprecation.py:87: FutureWarning: Function plot_roc_curve is deprecated; Function `plot_roc_curve` is deprecated in 1.0 and will be removed in 1.2. Use one of the class methods: RocCurveDisplay.from_predictions or RocCurveDisplay.from_estimator.\n",
            "  warnings.warn(msg, category=FutureWarning)\n"
          ]
        },
        {
          "output_type": "execute_result",
          "data": {
            "text/plain": [
              "<sklearn.metrics._plot.roc_curve.RocCurveDisplay at 0x7f6ca131a8d0>"
            ]
          },
          "metadata": {},
          "execution_count": 24
        },
        {
          "output_type": "display_data",
          "data": {
            "text/plain": [
              "<Figure size 432x288 with 0 Axes>"
            ]
          },
          "metadata": {}
        },
        {
          "output_type": "display_data",
          "data": {
            "image/png": "[encoded data removed]",
            "text/plain": [
              "<Figure size 432x288 with 1 Axes>"
            ]
          },
          "metadata": {
            "needs_background": "light"
          }
        }
      ]
    }
  ]
}